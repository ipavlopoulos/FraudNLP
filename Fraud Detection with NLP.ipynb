{
 "cells": [
  {
   "cell_type": "code",
   "execution_count": null,
   "metadata": {},
   "outputs": [],
   "source": [
    "import pandas as pd\n",
    "import numpy as np\n",
    "from sklearn.metrics import *\n",
    "from ast import literal_eval\n",
    "from tensorflow.random import set_seed\n",
    "\n",
    "RANDOM_SEED = 0\n",
    "np.random.seed(seed=RANDOM_SEED)\n",
    "set_seed(RANDOM_SEED)\n",
    "\n",
    "\n",
    "df = pd.read_pickle(\"Fraud Detection with Natural Language Processing.pkl\")\n",
    "print(\"dataset shape: \", df.shape)\n",
    "action_vocab = pd.read_csv(\"vocab.csv\")\n",
    "\n",
    "# one line is broken, throw it away\n",
    "broken_times = df[df.times.apply(lambda x: x[-1]!=\"]\")]\n",
    "assert broken_times.shape[0] == 1\n",
    "assert broken_times.iloc[0].is_fraud==0\n",
    "\n",
    "# ignore the single broken line\n",
    "df = df[df.times.apply(lambda x: x[-1]==\"]\")]\n",
    "\n",
    "#build the raw text, using the names and the (index-inverted) tokens \n",
    "action_names = action_vocab.Name.to_list()\n",
    "id_to_action = {str(i):a for i,a in enumerate(action_names)}\n",
    "action_to_id = {a:str(i) for i,a in enumerate(action_names)}\n",
    "\n",
    "# Recall to cast the strings into lists\n",
    "df.actions = df.actions.apply(literal_eval)\n",
    "\n",
    "df[\"times\"] = df.times.apply(literal_eval).apply(lambda x: [i/1000 for i in x])\n",
    "df[\"Action time mean\"] = df.times.apply(np.mean)\n",
    "df[\"Action time std\"] = df.times.apply(np.std)\n",
    "df[\"log(amount)\"] = df.Amount.apply(np.log)\n",
    "df[\"Transaction Type\"] = df.is_fraud.apply(lambda x: \"Fraud\" if x else \"Non Fraud\")\n",
    "df[\"time_to_first_action\"] = df.times.apply(lambda x: x[1] if len(x)>1 else 0)\n",
    "df[\"actions_str\"] = df.actions.apply(lambda x: \" \".join([id_to_action[str(i[0])] for i in x if len(i)>0]))\n",
    "df[\"total_time_to_transaction\"] = df.times.apply(sum)/1000\n",
    "df['actions'] = df['actions'].apply(lambda x: [item for sublist in x for item in sublist])\n",
    "df.head(2)"
   ]
  },
  {
   "cell_type": "code",
   "execution_count": null,
   "metadata": {},
   "outputs": [],
   "source": []
  }
 ],
 "metadata": {
  "kernelspec": {
   "display_name": "Python 3",
   "language": "python",
   "name": "python3"
  },
  "language_info": {
   "codemirror_mode": {
    "name": "ipython",
    "version": 3
   },
   "file_extension": ".py",
   "mimetype": "text/x-python",
   "name": "python",
   "nbconvert_exporter": "python",
   "pygments_lexer": "ipython3",
   "version": "3.8.10"
  },
  "orig_nbformat": 4,
  "vscode": {
   "interpreter": {
    "hash": "f544ce1a915a9875fad91c894e2c0bcad4b7a79945aa6027ef3ad27810072aa6"
   }
  }
 },
 "nbformat": 4,
 "nbformat_minor": 2
}
